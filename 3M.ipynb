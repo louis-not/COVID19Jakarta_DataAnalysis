{
 "cells": [
  {
   "cell_type": "code",
   "execution_count": 68,
   "metadata": {},
   "outputs": [],
   "source": [
    "import pandas as pd\n",
    "import numpy as np\n"
   ]
  },
  {
   "cell_type": "code",
   "execution_count": 61,
   "metadata": {},
   "outputs": [],
   "source": [
    "filepath = \"covid19.xlsx\"\n",
    "\n",
    "Data_Jak = pd.read_excel(filepath, sheet_name=1)\n",
    "Data_Jak = Data_Jak.rename(columns={'Positif Harian': 'positive_daily', 'Positif Aktif': 'active_positive', 'Self Isolation': 'self_isolation'})"
   ]
  },
  {
   "cell_type": "code",
   "execution_count": 62,
   "metadata": {},
   "outputs": [
    {
     "name": "stdout",
     "output_type": "stream",
     "text": [
      "Kelas\t\t\tNilai\n",
      "0.0 - 1091.0 \t\t315\n",
      "1092.0 - 2183.0 \t\t111\n",
      "2184.0 - 3275.0 \t\t29\n",
      "3276.0 - 4367.0 \t\t20\n",
      "4368.0 - 5459.0 \t\t4\n",
      "5460.0 - 6551.0 \t\t1\n",
      "6552.0 - 7643.0 \t\t4\n",
      "7644.0 - 8735.0 \t\t2\n",
      "8736.0 - 9827.0 \t\t4\n",
      "9828.0 - 10919.0 \t\t2\n"
     ]
    }
   ],
   "source": [
    "Range = Data_Jak['positive_daily'].describe()['max'] - Data_Jak['positive_daily'].describe()['min']\n",
    "Class = np.ceil(1 + 3.3*np.log10(Data_Jak['positive_daily'].describe()['count']))\n",
    "Interval = np.ceil(Range/Class)\n",
    "Data_Jak_Class = []\n",
    "Tb = Data_Jak['positive_daily'].describe()['min'] - 0.5\n",
    "Ta = 0\n",
    "add = 0 # for checking\n",
    "class_range = []\n",
    "Data_Jak_Class_Daily = []\n",
    "print(\"Kelas\\t\\t\\tNilai\")\n",
    "for i in range(int(Class)):\n",
    "    Ta = Tb + Interval + 1\n",
    "    Data_Jak_Class.append(Data_Jak[Data_Jak['positive_daily'].between(Tb,Ta)])\n",
    "#     print(\"converting Class \" + str(i) +\" - > \"+ str(Tb) +\" to \"+ str(Ta))\n",
    "    class_range.append(str(Tb + 0.5) + \" - \" +str(Ta - 0.5))\n",
    "    Data_Jak_Class_Daily.append(Data_Jak_Class[i].shape[0])\n",
    "    print(str(class_range[i]) + \" \\t\\t\" + str(Data_Jak_Class_Daily[i]))\n",
    "    Tb = Ta"
   ]
  },
  {
   "cell_type": "code",
   "execution_count": 63,
   "metadata": {},
   "outputs": [],
   "source": [
    "Mo = -.5 + (315/(315+315-111))*Interval"
   ]
  },
  {
   "cell_type": "code",
   "execution_count": 67,
   "metadata": {},
   "outputs": [
    {
     "name": "stdout",
     "output_type": "stream",
     "text": [
      "Mean\t: 1202.2317073170732\n",
      "Median\t: 859.0\n",
      "Modus\t: 661.6676300578034\n",
      "Minimal\t: 0.0\n",
      "Maximal\t: 10903.0\n"
     ]
    }
   ],
   "source": [
    "print(\"Mean\\t: \"+ str(Data_Jak['positive_daily'].describe()['mean']))\n",
    "print(\"Median\\t: \" + str(Data_Jak['positive_daily'].describe()['50%']))\n",
    "print(\"Modus\\t: \"+ str(Mo))\n",
    "print(\"Minimal\\t: \"+ str(Data_Jak['positive_daily'].describe()['min']))\n",
    "print(\"Maximal\\t: \"+ str(Data_Jak['positive_daily'].describe()['max']))"
   ]
  },
  {
   "cell_type": "code",
   "execution_count": null,
   "metadata": {},
   "outputs": [],
   "source": []
  }
 ],
 "metadata": {
  "kernelspec": {
   "display_name": "Python 3",
   "language": "python",
   "name": "python3"
  },
  "language_info": {
   "codemirror_mode": {
    "name": "ipython",
    "version": 3
   },
   "file_extension": ".py",
   "mimetype": "text/x-python",
   "name": "python",
   "nbconvert_exporter": "python",
   "pygments_lexer": "ipython3",
   "version": "3.8.3"
  }
 },
 "nbformat": 4,
 "nbformat_minor": 4
}
